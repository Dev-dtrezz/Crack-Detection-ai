{
 "cells": [
  {
   "cell_type": "code",
   "execution_count": 5,
   "id": "e1c90853-7b65-487d-8504-7d2c92d6e554",
   "metadata": {},
   "outputs": [],
   "source": [
    "import pandas as pd\n",
    "import json\n",
    "import os\n",
    "import cv2\n",
    "import matplotlib.pyplot as plt\n",
    "import numpy as np\n",
    "import tifffile\n",
    "import imagecodecs\n",
    "from ipywidgets import interact\n",
    "from pathlib import Path\n",
    "from torchvision import models, transforms"
   ]
  },
  {
   "cell_type": "markdown",
   "id": "ab663157-3cbd-417d-bd6d-31cfe57189e5",
   "metadata": {},
   "source": [
    "# 1. 데이터셋 리스트 생성(label값 필터링(.json))"
   ]
  },
  {
   "cell_type": "code",
   "execution_count": 6,
   "id": "7fc51a7c-bc24-4a4d-95d7-08b4ef167647",
   "metadata": {},
   "outputs": [
    {
     "data": {
      "text/plain": [
       "'D:/Crack Detection/112.건물 균열 탐지드론 개발을 위한 이미지/01.데이터/1.Training/원천데이터/콘크리트_콘크리트균열_원천_03'"
      ]
     },
     "execution_count": 6,
     "metadata": {},
     "output_type": "execute_result"
    }
   ],
   "source": [
    "# 원본 경로\n",
    "label_file_path = \"./Dataset/01.데이터/1.Training/라벨링데이터_240326_add/콘크리트_콘크리트균열_라벨링_01/\"\n",
    "image_file_path = r\"D:\\Crack Detection\\112.건물 균열 탐지드론 개발을 위한 이미지\\01.데이터\\1.Training\\원천데이터\\콘크리트_콘크리트균열_원천_03\"\n",
    "image_file_path = image_file_path.replace('\\\\','/')\n",
    "image_file_path"
   ]
  },
  {
   "cell_type": "code",
   "execution_count": 7,
   "id": "2c38831f-b6f5-43f9-aeb1-a21b1b08b1cc",
   "metadata": {},
   "outputs": [
    {
     "name": "stdout",
     "output_type": "stream",
     "text": [
      "144194\n",
      "101_0000149e-4c13-49dd-a77b-c24b3d34a314.json\n"
     ]
    }
   ],
   "source": [
    "# 라벨 파일리스트 생성 -> lael_files\n",
    "label_files = [fn for fn in os.listdir(label_file_path) if fn.endswith('json')]\n",
    "print(len(label_files))\n",
    "print(label_files[0])"
   ]
  },
  {
   "cell_type": "code",
   "execution_count": 8,
   "id": "692a30a5-113e-4f0f-926f-3ccb606eb730",
   "metadata": {},
   "outputs": [
    {
     "ename": "FileNotFoundError",
     "evalue": "[WinError 3] 지정된 경로를 찾을 수 없습니다: 'D:/Crack Detection/112.건물 균열 탐지드론 개발을 위한 이미지/01.데이터/1.Training/원천데이터/콘크리트_콘크리트균열_원천_03'",
     "output_type": "error",
     "traceback": [
      "\u001b[1;31m---------------------------------------------------------------------------\u001b[0m",
      "\u001b[1;31mFileNotFoundError\u001b[0m                         Traceback (most recent call last)",
      "Cell \u001b[1;32mIn[8], line 2\u001b[0m\n\u001b[0;32m      1\u001b[0m \u001b[38;5;66;03m# 이미지 파일리스트 생성 -> image_files\u001b[39;00m\n\u001b[1;32m----> 2\u001b[0m image_files \u001b[38;5;241m=\u001b[39m [fn \u001b[38;5;28;01mfor\u001b[39;00m fn \u001b[38;5;129;01min\u001b[39;00m \u001b[43mos\u001b[49m\u001b[38;5;241;43m.\u001b[39;49m\u001b[43mlistdir\u001b[49m\u001b[43m(\u001b[49m\u001b[43mimage_file_path\u001b[49m\u001b[43m)\u001b[49m \u001b[38;5;28;01mif\u001b[39;00m fn\u001b[38;5;241m.\u001b[39mendswith(\u001b[38;5;124m'\u001b[39m\u001b[38;5;124mtiff\u001b[39m\u001b[38;5;124m'\u001b[39m)]\n\u001b[0;32m      3\u001b[0m \u001b[38;5;28mlen\u001b[39m(image_files)\n",
      "\u001b[1;31mFileNotFoundError\u001b[0m: [WinError 3] 지정된 경로를 찾을 수 없습니다: 'D:/Crack Detection/112.건물 균열 탐지드론 개발을 위한 이미지/01.데이터/1.Training/원천데이터/콘크리트_콘크리트균열_원천_03'"
     ]
    }
   ],
   "source": [
    "# 이미지 파일리스트 생성 -> image_files\n",
    "image_files = [fn for fn in os.listdir(image_file_path) if fn.endswith('tiff')]\n",
    "len(image_files)"
   ]
  },
  {
   "cell_type": "code",
   "execution_count": null,
   "id": "043b992a-51bf-44aa-b3d9-46426691539f",
   "metadata": {},
   "outputs": [],
   "source": [
    "# image_files_파일명\n",
    "image_files_name = [i.split('.')[0] for i in image_files]\n",
    "image_files_name\n",
    "# 이미지01_데이터셋에 맞는 label_files 리스트 생성\n",
    "new_label_files = []\n",
    "for i in label_files:\n",
    "    if i.split('.')[0] in image_files_name:\n",
    "        new_label_files.append(i)\n",
    "# 리스트 정렬\n",
    "new_label_files = sorted(new_label_files)\n",
    "image_files = sorted(image_files)\n",
    "len(new_label_files)"
   ]
  },
  {
   "cell_type": "code",
   "execution_count": null,
   "id": "f2e90abd-79cf-4d83-a89e-addc54209e75",
   "metadata": {},
   "outputs": [],
   "source": [
    "# 함수1_make_file_list\n",
    "def make_file_list(path, file):\n",
    "    file_list = [os.path.join(path, i).replace('\\\\','/') for i in  file]\n",
    "    return file_list"
   ]
  },
  {
   "cell_type": "code",
   "execution_count": null,
   "id": "38c45f55-992b-47d2-a08b-e31b9cb4c49e",
   "metadata": {},
   "outputs": [],
   "source": [
    "# 데이터셋 파일경로 생성\n",
    "label_file_list = make_file_list(label_file_path, new_label_files)\n",
    "image_file_list = make_file_list(image_file_path, image_files)\n",
    "print(len(label_file_list))\n",
    "print(len(image_file_list))"
   ]
  },
  {
   "cell_type": "code",
   "execution_count": null,
   "id": "49ce4fd3-6143-4927-91b3-5d03c822e218",
   "metadata": {},
   "outputs": [],
   "source": [
    "label_file_list[0]\n",
    "image_file_list[0]"
   ]
  },
  {
   "cell_type": "markdown",
   "id": "33eb83a0-f06b-4113-a808-a236ab6e2308",
   "metadata": {},
   "source": [
    "# 2. 데이터 체크"
   ]
  },
  {
   "cell_type": "code",
   "execution_count": null,
   "id": "22eeb593-2c43-43b6-b4e6-bcc34322e416",
   "metadata": {},
   "outputs": [],
   "source": [
    "# 인덱스별로 이미지 확인 함수\n",
    "def show_sample(label_file_list, image_file_list, index):\n",
    "    image = tifffile.imread(image_file_list[index])\n",
    "    image = cv2.cvtColor(image, cv2.COLOR_BGR2RGB)\n",
    "    # bbox좌표\n",
    "    with open(label_file_list[index], 'r', encoding='utf-8') as f:\n",
    "        data = json.load(f)\n",
    "        bbox = [i['bbox'] for i in data['annotations']]\n",
    "        bbox = [[int(i) for i in li] for li in bbox]\n",
    "    print('image_name : ' + label_file_list[index].split('/')[-1].split('.')[0])\n",
    "    print(bbox)\n",
    "    for li in bbox:\n",
    "        x,y,w,h = li\n",
    "        cv2.rectangle(image, (x, y), (x+w, y+h), (255,0,0), 7)\n",
    "    plt.figure(figsize=(6,6))\n",
    "    plt.imshow(image)\n",
    "    plt.show()"
   ]
  },
  {
   "cell_type": "code",
   "execution_count": null,
   "id": "675aef39-f93f-44e1-8c74-90ef36fe14d0",
   "metadata": {},
   "outputs": [],
   "source": [
    "# 인터랙티브 함수 정의\n",
    "@interact(index=(0, len(label_file_list)-1))\n",
    "def interact_image(index):\n",
    "    show_sample(label_file_list, image_file_list, index)"
   ]
  },
  {
   "cell_type": "markdown",
   "id": "94c7c5ea-7c53-401d-9626-bdb85493229f",
   "metadata": {},
   "source": [
    "# 3. image 데이터셋 생성(tiff -> jpg, 640)"
   ]
  },
  {
   "cell_type": "code",
   "execution_count": null,
   "id": "52361b76-2093-4cec-86ed-9128b54ab6b7",
   "metadata": {},
   "outputs": [],
   "source": [
    "# # 이미지 변환 폴더생성\n",
    "# new_folder_path = Path('./crack_dataset_0504/03_resized_images')\n",
    "# new_folder_path.mkdir(parents=True, exist_ok=True)\n",
    "# new_folder_path\n",
    "# # 이미지 변환\n",
    "# for idx, img in enumerate(image_file_list):\n",
    "#     image = tifffile.imread(img)\n",
    "#     image = cv2.cvtColor(image, cv2.COLOR_BGR2RGB)\n",
    "#     h,w,_ = image.shape\n",
    "#     new_h = 640\n",
    "#     new_w = int(w * (new_h / h))\n",
    "#     resize_image = cv2.resize(image, (new_w,new_h), interpolation=cv2.INTER_CUBIC)\n",
    "#     img_name = img.split('/')[-1].split('.')[0]\n",
    "#     cv2.imwrite(os.path.join(new_folder_path,f'{img_name}.jpg'), resize_image)"
   ]
  },
  {
   "cell_type": "markdown",
   "id": "a8e5cef0-cf4b-4f9a-8120-54563bbea0a2",
   "metadata": {},
   "source": [
    "# 4. label 데이터셋 생성(.txt / 클래스 번호 / bbox좌표_정규화)"
   ]
  },
  {
   "cell_type": "code",
   "execution_count": null,
   "id": "1cf16160-dc06-44da-b2df-cff44ba4d609",
   "metadata": {},
   "outputs": [],
   "source": [
    "# # 라벨 폴더생성\n",
    "# new_folder_path = Path('./crack_dataset_0504/03_resized_labels')\n",
    "# new_folder_path.mkdir(parents=True, exist_ok=True)\n",
    "# # 폴더 경로 설정\n",
    "# txt_folder_path = new_folder_path\n",
    "# # 라벨 .txt 파일 생성\n",
    "# for file in label_file_list:\n",
    "#     with open(file, 'r', encoding='utf-8') as f:\n",
    "#         data = json.load(f)\n",
    "#         bbox = [i['bbox'] for i in data['annotations']]\n",
    "#         bbox = [[int(i) for i in li] for li in bbox]\n",
    "        \n",
    "#         # 이미지 크기 구하기\n",
    "#         img_w = data['images'][0]['width']\n",
    "#         img_h = data['images'][0]['height']\n",
    "        \n",
    "#         # 세로 너비를 기준으로 640 픽셀로 조정하면서 종횡비를 유지합니다.\n",
    "#         scale_factor = 640 / max(img_w, img_h)\n",
    "#         new_img_w = int(img_w * scale_factor)\n",
    "#         new_img_h = int(img_h * scale_factor)\n",
    "        \n",
    "#         file_name = file.split('/')[-1].split('.')[0] + '.txt'\n",
    "#         file_path = os.path.join(new_folder_path, file_name)\n",
    "\n",
    "#         with open(file_path, 'w') as f:\n",
    "#             for bbox_li in bbox:\n",
    "#                 x, y, w, h = bbox_li\n",
    "                \n",
    "#                 # bbox 좌표를 새로운 크기에 맞게 조정합니다.\n",
    "#                 x = (x + (w / 2)) * scale_factor / new_img_w\n",
    "#                 y = (y + (h / 2)) * scale_factor / new_img_h\n",
    "#                 w = w * scale_factor / new_img_w\n",
    "#                 h = h * scale_factor / new_img_h\n",
    "                \n",
    "#                 bbox_list = [x, y, w, h]\n",
    "#                 bbox_list = [float(i) for i in bbox_list]\n",
    "#                 bbox_list = [0] + bbox_list\n",
    "                \n",
    "#                 result = \" \".join(map(str, bbox_list))\n",
    "#                 f.write(\" \".join(map(str, bbox_list)) + \"\\n\")"
   ]
  },
  {
   "cell_type": "code",
   "execution_count": null,
   "id": "6f5a0a2c-0e0f-41e5-8e7b-76f04fafab73",
   "metadata": {},
   "outputs": [],
   "source": [
    "# # 라벨 폴더생성\n",
    "# new_folder_path = Path('./crack_dataset_0428/03_resized_labels')\n",
    "# new_folder_path.mkdir(parents=True, exist_ok=True)\n",
    "# # 폴더 경로 설정\n",
    "# txt_folder_path = new_folder_path\n",
    "# # 라벨 .txt파일 생성\n",
    "# for file in label_file_list:\n",
    "#     with open(file, 'r', encoding='utf-8') as f:\n",
    "#             data = json.load(f)\n",
    "#             bbox = [i['bbox'] for i in data['annotations']]\n",
    "#             bbox = [[int(i) for i in li] for li in bbox]\n",
    "#             # 이미지 크기 구하기\n",
    "#             img_w = data['images'][0]['width']\n",
    "#             img_h = data['images'][0]['height']\n",
    "#             # # 이미지 변환 변수\n",
    "#             # w_change = 640 / img_w\n",
    "#             # h_change = 640 / img_h\n",
    "#     file_name = file.split('/')[-1].split('.')[0] + '.txt'\n",
    "#     file_path = os.path.join(new_folder_path, file_name)\n",
    "\n",
    "#     with open(file_path, 'w') as f:\n",
    "#         for bbox_li in bbox:\n",
    "#             x,y,w,h = bbox_li\n",
    "#             x = x + (w/2)\n",
    "#             y = y + (h/2)\n",
    "#             # bbox좌표 정규화\n",
    "#             x = x / img_w\n",
    "#             y = y / img_h\n",
    "#             w = w / img_w\n",
    "#             h = h / img_h\n",
    "#             bbox_list = [x,y,w,h]\n",
    "#             bbox_list = [float(i) for i in bbox_list]\n",
    "#             bbox_list = [0] + bbox_list\n",
    "#             result = \" \".join(map(str,bbox_list))\n",
    "#             f.write(\" \".join(map(str,bbox_list)) + \"\\n\")"
   ]
  },
  {
   "cell_type": "code",
   "execution_count": null,
   "id": "f3f89a85-d107-46ba-a93b-8c77ddae8810",
   "metadata": {},
   "outputs": [],
   "source": [
    "# # 라벨 폴더생성(초안)\n",
    "# new_folder_path = Path('./yolo_dataset/resized_labels')\n",
    "# new_folder_path.mkdir(parents=True, exist_ok=True)\n",
    "# # 폴더 경로 설정\n",
    "# txt_folder_path = new_folder_path\n",
    "# # 라벨 .txt파일 생성\n",
    "# for file in label_file_list:\n",
    "#     with open(file, 'r', encoding='utf-8') as f:\n",
    "#             data = json.load(f)\n",
    "#             bbox = [i['bbox'] for i in data['annotations']]\n",
    "#             bbox = [[int(i) for i in li] for li in bbox]\n",
    "#     file_name = file.split('/')[-1].split('.')[0] + '.txt'\n",
    "#     file_path = os.path.join(new_folder_path, file_name)\n",
    "\n",
    "#     with open(file_path, 'w') as f:\n",
    "#         for bbox_li in bbox:\n",
    "#             x,y,w,h = bbox_li\n",
    "#             bbox_list = [0] + [x,y,w,h]\n",
    "#             result = \" \".join(map(str,bbox_list))\n",
    "#             f.write(\" \".join(map(str,bbox_list)) + \"\\n\")"
   ]
  },
  {
   "cell_type": "markdown",
   "id": "3280e54c-6ccf-47b6-b570-cf774b813892",
   "metadata": {},
   "source": [
    "# 4. 이미지 변환체크"
   ]
  },
  {
   "cell_type": "code",
   "execution_count": 9,
   "id": "aab3646d-edb0-435c-92b6-8775ce70baf4",
   "metadata": {},
   "outputs": [],
   "source": [
    "# 데이터셋 경로생성함수 \n",
    "def list_files_in_directory(directory):\n",
    "    files = []\n",
    "    for filename in os.listdir(directory):\n",
    "        filename = os.path.join(directory, filename)\n",
    "        files.append(filename)\n",
    "    return files"
   ]
  },
  {
   "cell_type": "code",
   "execution_count": null,
   "id": "71fbd207-a178-4629-b6e2-5f5cdd202498",
   "metadata": {},
   "outputs": [],
   "source": [
    "# 이미지를 확인할 경로\n",
    "image_dir = list_files_in_directory(r\"C:\\AI project\\01. Crack Detection\\crack_dataset_0504\\01_resized_images\")\n",
    "label_dir = list_files_in_directory(r\"C:\\AI project\\01. Crack Detection\\crack_dataset_0504\\01_resized_labels\")\n",
    "\n",
    "# 인덱스별 이미지 확인함수\n",
    "def show_640_sample(label_file, image_file, index):\n",
    "    image = cv2.imread(image_file[index])\n",
    "    image = cv2.cvtColor(image, cv2.COLOR_BGR2RGB)\n",
    "    \n",
    "    # 이미지의 너비와 높이\n",
    "    image_width, image_height = image.shape[1], image.shape[0]\n",
    "    \n",
    "    # bbox좌표\n",
    "    with open(label_file[index], 'r', encoding='utf-8') as f:\n",
    "        # 한 줄씩 읽기\n",
    "        for line in f:\n",
    "            bbox_info = line.strip().split(' ')\n",
    "            # 클래스 구분\n",
    "            class_index = int(bbox_info[0])\n",
    "            # 바운딩박스 좌표\n",
    "            x, y, w, h = map(float, bbox_info[1:])\n",
    "            x *= image_width\n",
    "            y *= image_height\n",
    "            w *= image_width\n",
    "            h *= image_height\n",
    "            # 정수형 좌표 계산 및 조정\n",
    "            x1 = int(x - w / 2)\n",
    "            y1 = int(y - h / 2)\n",
    "            x2 = int(x + w / 2)\n",
    "            y2 = int(y + h / 2)\n",
    "            # 올바른 타입으로 사각형 그리기\n",
    "            cv2.rectangle(image, (x1, y1), (x2, y2), (255, 0, 0), 3)\n",
    "    \n",
    "    plt.figure(figsize=(6,6))\n",
    "    plt.imshow(image)\n",
    "    plt.show()\n",
    "\n",
    "\n",
    "# 인터랙티브 함수 정의\n",
    "@interact(index=(0, len(label_dir)-1))\n",
    "def interact_image(index):\n",
    "    show_640_sample(label_dir, image_dir, index)"
   ]
  },
  {
   "cell_type": "markdown",
   "id": "3411d839-d660-4a85-a422-939ef916dc47",
   "metadata": {},
   "source": [
    "# 5. train/val 나누기"
   ]
  },
  {
   "cell_type": "code",
   "execution_count": null,
   "id": "80192c6a-6f00-4905-8b23-a6211bf0977c",
   "metadata": {},
   "outputs": [],
   "source": [
    "import os\n",
    "import random\n",
    "import shutil\n",
    "\n",
    "def split_dataset(image_dir, label_dir, train_ratio=0.7):\n",
    "    # 이미지 및 라벨 파일 리스트 가져오기\n",
    "    image_files = os.listdir(image_dir)\n",
    "    label_files = os.listdir(label_dir)\n",
    "    \n",
    "    # 이미지 및 라벨 파일 정렬\n",
    "    image_files.sort()\n",
    "    label_files.sort()\n",
    "    \n",
    "    # 이미지 및 라벨 파일 수\n",
    "    num_images = len(image_files)\n",
    "    \n",
    "    # Train 및 Val 폴더 생성\n",
    "    os.makedirs('train/images', exist_ok=True)\n",
    "    os.makedirs('train/labels', exist_ok=True)\n",
    "    os.makedirs('val/images', exist_ok=True)\n",
    "    os.makedirs('val/labels', exist_ok=True)\n",
    "    \n",
    "    # Train 및 Val 폴더에 이미지 및 라벨 파일 복사\n",
    "    num_train_images = int(num_images * train_ratio)\n",
    "    train_image_files = image_files[:num_train_images]\n",
    "    train_label_files = label_files[:num_train_images]\n",
    "    val_image_files = image_files[num_train_images:]\n",
    "    val_label_files = label_files[num_train_images:]\n",
    "    \n",
    "    for image_file, label_file in zip(train_image_files, train_label_files):\n",
    "        shutil.copy(os.path.join(image_dir, image_file), 'train/images')\n",
    "        shutil.copy(os.path.join(label_dir, label_file), 'train/labels')\n",
    "        \n",
    "    for image_file, label_file in zip(val_image_files, val_label_files):\n",
    "        shutil.copy(os.path.join(image_dir, image_file), 'val/images')\n",
    "        shutil.copy(os.path.join(label_dir, label_file), 'val/labels')"
   ]
  },
  {
   "cell_type": "code",
   "execution_count": null,
   "id": "a2d31464-b4c4-4b42-ae67-7f6b9d262781",
   "metadata": {},
   "outputs": [],
   "source": [
    "# # 원본폴더_image/label(전체)\n",
    "# dataset_img = r\"C:\\AI project\\01. Crack Detection\\yolo_dataset\\images\"\n",
    "# dataset_label = r\"C:\\AI project\\01. Crack Detection\\yolo_dataset\\labels\"\n",
    "# # # 이미지 및 라벨 폴더의 경로 지정(train / val분할)\n",
    "# # image_dir = './images'\n",
    "# # label_dir = './labels'\n",
    "# # 데이터셋 분할 비율 설정하여 데이터셋 분할\n",
    "# split_dataset(dataset_img, dataset_label, train_ratio=0.9)"
   ]
  },
  {
   "cell_type": "code",
   "execution_count": 11,
   "id": "e4442a0d-aca8-43d8-823d-9e60eea6ddbe",
   "metadata": {},
   "outputs": [
    {
     "data": {
      "application/vnd.jupyter.widget-view+json": {
       "model_id": "ced123ad323141d88bc6bf5a01e411d8",
       "version_major": 2,
       "version_minor": 0
      },
      "text/plain": [
       "interactive(children=(IntSlider(value=5264, description='index', max=10529), Output()), _dom_classes=('widget-…"
      ]
     },
     "metadata": {},
     "output_type": "display_data"
    }
   ],
   "source": [
    "# 이미지를 확인할 경로\n",
    "image_dir = list_files_in_directory(\"./yolo_dataset/train/images/\")\n",
    "label_dir = list_files_in_directory(\"./yolo_dataset/train/labels/\")\n",
    "\n",
    "# 인덱스별 이미지 확인함수\n",
    "def show_640_sample(label_file, image_file, index):\n",
    "    image = cv2.imread(image_file[index])\n",
    "    image = cv2.cvtColor(image, cv2.COLOR_BGR2RGB)\n",
    "    \n",
    "    # 이미지의 너비와 높이\n",
    "    image_width, image_height = image.shape[1], image.shape[0]\n",
    "    \n",
    "    # bbox좌표\n",
    "    with open(label_file[index], 'r', encoding='utf-8') as f:\n",
    "        # 한 줄씩 읽기\n",
    "        for line in f:\n",
    "            bbox_info = line.strip().split(' ')\n",
    "            # 클래스 구분\n",
    "            class_index = int(bbox_info[0])\n",
    "            # 바운딩박스 좌표\n",
    "            x, y, w, h = map(float, bbox_info[1:])\n",
    "            x *= image_width\n",
    "            y *= image_height\n",
    "            w *= image_width\n",
    "            h *= image_height\n",
    "            # 정수형 좌표 계산 및 조정\n",
    "            x1 = int(x - w / 2)\n",
    "            y1 = int(y - h / 2)\n",
    "            x2 = int(x + w / 2)\n",
    "            y2 = int(y + h / 2)\n",
    "            # 올바른 타입으로 사각형 그리기\n",
    "            cv2.rectangle(image, (x1, y1), (x2, y2), (255, 0, 0), 3)\n",
    "    \n",
    "    plt.figure(figsize=(6,6))\n",
    "    plt.imshow(image)\n",
    "    plt.show()\n",
    "\n",
    "# 인터랙티브 함수 정의\n",
    "@interact(index=(0, len(label_dir)-1))\n",
    "def interact_image(index):\n",
    "    show_640_sample(label_dir, image_dir, index)"
   ]
  }
 ],
 "metadata": {
  "kernelspec": {
   "display_name": "Python 3 (ipykernel)",
   "language": "python",
   "name": "python3"
  },
  "language_info": {
   "codemirror_mode": {
    "name": "ipython",
    "version": 3
   },
   "file_extension": ".py",
   "mimetype": "text/x-python",
   "name": "python",
   "nbconvert_exporter": "python",
   "pygments_lexer": "ipython3",
   "version": "3.10.11"
  }
 },
 "nbformat": 4,
 "nbformat_minor": 5
}
