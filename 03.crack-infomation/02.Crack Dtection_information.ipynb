{
 "cells": [
  {
   "cell_type": "code",
   "execution_count": 14,
   "id": "97499ef0-3caa-45ff-abce-4d94feb901ad",
   "metadata": {},
   "outputs": [],
   "source": [
    "import cv2\n",
    "import matplotlib.pyplot as plt\n",
    "plt.rcParams['font.family'] = 'Malgun Gothic'\n",
    "import os\n",
    "from ipywidgets import interact\n",
    "import numpy as np\n",
    "import pandas as pd"
   ]
  },
  {
   "cell_type": "markdown",
   "id": "9df2e6b6-5028-4210-aae3-c3f236894d7d",
   "metadata": {},
   "source": [
    "# 1. 테스트 데이터셋 생성(yolov5_추론폴더)"
   ]
  },
  {
   "cell_type": "code",
   "execution_count": 3,
   "id": "eddac7c6-1b43-4a0d-8fa2-13d28930801e",
   "metadata": {},
   "outputs": [],
   "source": [
    "label_file_path = './crack_test_dataset/labels/'\n",
    "image_file_path = './crack_test_dataset/'"
   ]
  },
  {
   "cell_type": "code",
   "execution_count": 4,
   "id": "44072b31-dc20-4354-a72f-dc48f30a4db5",
   "metadata": {},
   "outputs": [
    {
     "name": "stdout",
     "output_type": "stream",
     "text": [
      "6\n",
      "apt_crack_1.txt\n"
     ]
    }
   ],
   "source": [
    "# 라벨링 txt 파일리스트 생성\n",
    "label_files = [fn for fn in os.listdir(label_file_path) if fn.endswith('txt')]\n",
    "print(len(label_files))\n",
    "print(label_files[0])"
   ]
  },
  {
   "cell_type": "code",
   "execution_count": 5,
   "id": "387ae5d6-14e6-46da-a195-51898ae609b3",
   "metadata": {},
   "outputs": [
    {
     "name": "stdout",
     "output_type": "stream",
     "text": [
      "['apt_crack_1.jpg', 'apt_crack_10.jpg', 'apt_crack_11.jpg', 'apt_crack_12.jpg', 'apt_crack_13.jpg', 'apt_crack_14.jpg', 'apt_crack_2.jpg', 'apt_crack_3.jpg', 'apt_crack_4.jpg', 'apt_crack_5.jpg', 'apt_crack_6.jpg', 'apt_crack_7.jpg', 'apt_crack_8.jpg', 'apt_crack_9.jpg']\n",
      "['apt_crack_1', 'apt_crack_11', 'apt_crack_13', 'apt_crack_6', 'apt_crack_7', 'apt_crack_9']\n"
     ]
    }
   ],
   "source": [
    "# 크랙탐지된 image 파일리스트 생성\n",
    "image_files = [fn for fn in os.listdir(image_file_path) if fn.endswith('jpg')]\n",
    "image_file_names = [i.split('.')[0] for i in label_files]\n",
    "print(image_files)\n",
    "print(image_file_names)"
   ]
  },
  {
   "cell_type": "code",
   "execution_count": 6,
   "id": "5d9e0aa1-d3dc-4b2b-9287-ad3c5a7122e3",
   "metadata": {},
   "outputs": [
    {
     "data": {
      "text/plain": [
       "['apt_crack_1.jpg',\n",
       " 'apt_crack_11.jpg',\n",
       " 'apt_crack_13.jpg',\n",
       " 'apt_crack_6.jpg',\n",
       " 'apt_crack_7.jpg',\n",
       " 'apt_crack_9.jpg']"
      ]
     },
     "execution_count": 6,
     "metadata": {},
     "output_type": "execute_result"
    }
   ],
   "source": [
    "image_file_names = [i for i in image_files if i.split('.')[0] in image_file_names]\n",
    "image_file_names"
   ]
  },
  {
   "cell_type": "code",
   "execution_count": 7,
   "id": "3584976e-0a33-44c5-ab84-d54c6d91c885",
   "metadata": {},
   "outputs": [
    {
     "name": "stdout",
     "output_type": "stream",
     "text": [
      "./crack_test_dataset/labels/apt_crack_1.txt\n",
      "./crack_test_dataset/apt_crack_1.jpg\n"
     ]
    }
   ],
   "source": [
    "label_file_list = [os.path.join(label_file_path,i) for i in label_files]\n",
    "image_file_list = [os.path.join(image_file_path,i) for i in image_file_names]\n",
    "print(label_file_list[0])\n",
    "print(image_file_list[0])"
   ]
  },
  {
   "cell_type": "markdown",
   "id": "26880001-55b4-4e10-8d4d-a6de3b71f33a",
   "metadata": {},
   "source": [
    "# 2. 인덱스별 크랙정보 확인"
   ]
  },
  {
   "cell_type": "code",
   "execution_count": 27,
   "id": "cb08d0c6-ef78-49b5-8ea1-104b242895c0",
   "metadata": {},
   "outputs": [
    {
     "data": {
      "application/vnd.jupyter.widget-view+json": {
       "model_id": "d650bc4ec7ae4c5dbfb9189a6792bb96",
       "version_major": 2,
       "version_minor": 0
      },
      "text/plain": [
       "interactive(children=(IntSlider(value=2, description='index', max=5), Output()), _dom_classes=('widget-interac…"
      ]
     },
     "metadata": {},
     "output_type": "display_data"
    }
   ],
   "source": [
    "# 인덱스별로 이미지 확인 함수\n",
    "def show_sample(label_file_list, image_file_list, index):\n",
    "    image = cv2.imread(image_file_list[index])\n",
    "    image = cv2.cvtColor(image, cv2.COLOR_BGR2RGB)\n",
    "    image_bbox = image.copy()\n",
    "    # 이미지의 너비와 높이\n",
    "    image_width, image_height = image.shape[1], image.shape[0]\n",
    "     # bbox좌표\n",
    "    with open(label_file_list[index], 'r', encoding='utf-8') as f:\n",
    "        # 한 줄씩 읽기\n",
    "        for line in f:\n",
    "            bbox_info = line.strip().split(' ')\n",
    "            # 클래스 구분\n",
    "            class_index = int(bbox_info[0])\n",
    "            # 바운딩박스 좌표\n",
    "            x, y, w, h = map(float, bbox_info[1:])\n",
    "            x *= image_width\n",
    "            y *= image_height\n",
    "            w *= image_width\n",
    "            h *= image_height\n",
    "            # 정수형 좌표 계산 및 조정\n",
    "            x1 = int(x - w / 2)\n",
    "            y1 = int(y - h / 2)\n",
    "            x2 = int(x + w / 2)\n",
    "            y2 = int(y + h / 2)\n",
    "            # 올바른 타입으로 사각형 그리기\n",
    "            cv2.rectangle(image_bbox, (x1, y1), (x2, y2), (255, 0, 0), 3)\n",
    "            # ROI\n",
    "            x = int(x - (w/2))\n",
    "            y = int(y - (h/2))\n",
    "            w = int(w)\n",
    "            h = int(h)\n",
    "    image_roi = image[y:y+h, x:x+w]\n",
    "    roi_gray = cv2.cvtColor(image_roi, cv2.COLOR_RGB2GRAY)\n",
    "    th, roi_gray = cv2.threshold(roi_gray, 0,255, cv2.THRESH_BINARY | cv2.THRESH_OTSU)\n",
    "    binary_image_black = roi_gray <= 10\n",
    "    # x,y축별로 최대 두께 탐지\n",
    "    max_crack_width_black = np.max(np.sum(binary_image_black, axis=1))\n",
    "    max_crack_height_black = np.max(np.sum(binary_image_black, axis=0))\n",
    "    \n",
    "    plt.figure(figsize=(6,6))\n",
    "    plt.title(f'탐지된 크랙 두께_가로:{max_crack_width_black}px,세로:{max_crack_height_black}px')\n",
    "    plt.imshow(image_bbox)\n",
    "    plt.show()\n",
    "\n",
    "# 인터랙티브 함수 정의\n",
    "@interact(index=(0, len(label_file_list)-1))\n",
    "def interact_image(index):\n",
    "    show_sample(label_file_list, image_file_list, index)"
   ]
  },
  {
   "cell_type": "markdown",
   "id": "41a5abf8-9264-4daa-966b-d94275831ada",
   "metadata": {},
   "source": [
    "# 3. 데이터셋 탐지 결과 보고서 추출"
   ]
  },
  {
   "cell_type": "code",
   "execution_count": 28,
   "id": "0495b704-5037-4f4e-ac8e-11529777ea43",
   "metadata": {},
   "outputs": [],
   "source": [
    "result = []\n",
    "\n",
    "for label, img in zip(label_file_list, image_file_list):\n",
    "    image = cv2.imread(img)\n",
    "    image = cv2.cvtColor(image, cv2.COLOR_BGR2RGB)\n",
    "    # 이미지의 너비와 높이\n",
    "    image_width, image_height = image.shape[1], image.shape[0]\n",
    "     # bbox좌표\n",
    "    with open(label, 'r', encoding='utf-8') as f:\n",
    "        # 한 줄씩 읽기\n",
    "        for line in f:\n",
    "            bbox_info = line.strip().split(' ')\n",
    "            # 클래스 구분\n",
    "            class_index = int(bbox_info[0])\n",
    "            # 바운딩박스 좌표\n",
    "            x, y, w, h = map(float, bbox_info[1:])\n",
    "            x *= image_width\n",
    "            y *= image_height\n",
    "            w *= image_width\n",
    "            h *= image_height\n",
    "            # 정수형 좌표 계산 및 조정\n",
    "            x1 = int(x - w / 2)\n",
    "            y1 = int(y - h / 2)\n",
    "            x2 = int(x + w / 2)\n",
    "            y2 = int(y + h / 2)\n",
    "            # ROI\n",
    "            x = int(x - (w/2))\n",
    "            y = int(y - (h/2))\n",
    "            w = int(w)\n",
    "            h = int(h)\n",
    "    image_roi = image[y:y+h, x:x+w]\n",
    "    roi_gray = cv2.cvtColor(image_roi, cv2.COLOR_RGB2GRAY)\n",
    "    th, roi_gray = cv2.threshold(roi_gray, 0,255, cv2.THRESH_BINARY | cv2.THRESH_OTSU)\n",
    "    binary_image_black = roi_gray <= 10\n",
    "    # x,y축별로 최대 두께 탐지\n",
    "    max_crack_width_black = np.max(np.sum(binary_image_black, axis=1))\n",
    "    max_crack_height_black = np.max(np.sum(binary_image_black, axis=0))\n",
    "\n",
    "    title = label.split('/')[-1].split('.')[0]\n",
    "    result.append({'name':title, 'max_width':max_crack_width_black, 'max_height':max_crack_height_black})"
   ]
  },
  {
   "cell_type": "code",
   "execution_count": 29,
   "id": "7fce1774-ccc4-431d-9c8d-1702a5cf682e",
   "metadata": {},
   "outputs": [],
   "source": [
    "crack_df = pd.DataFrame(result)\n",
    "crack_df.to_excel(label_file_path+'crack-detection-result.xlsx', index=False)"
   ]
  }
 ],
 "metadata": {
  "kernelspec": {
   "display_name": "Python 3 (ipykernel)",
   "language": "python",
   "name": "python3"
  },
  "language_info": {
   "codemirror_mode": {
    "name": "ipython",
    "version": 3
   },
   "file_extension": ".py",
   "mimetype": "text/x-python",
   "name": "python",
   "nbconvert_exporter": "python",
   "pygments_lexer": "ipython3",
   "version": "3.10.11"
  }
 },
 "nbformat": 4,
 "nbformat_minor": 5
}
